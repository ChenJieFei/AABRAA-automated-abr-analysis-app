{
 "cells": [
  {
   "cell_type": "code",
   "execution_count": 2,
   "metadata": {},
   "outputs": [],
   "source": [
    "import pandas as pd\n",
    "import os\n",
    "import glob\n",
    "import matplotlib.pyplot as plt\n",
    "import numpy as np\n",
    "from scipy.signal import find_peaks"
   ]
  },
  {
   "cell_type": "markdown",
   "metadata": {},
   "source": [
    "# 1. Plotting Waves"
   ]
  },
  {
   "cell_type": "code",
   "execution_count": 3,
   "metadata": {},
   "outputs": [],
   "source": [
    "#read each csv file in current_directory and store it in dataframes\n",
    "\n",
    "current_directory = os.getcwd()\n",
    "csv_files = glob.glob(os.path.join(current_directory, '*.csv'))\n",
    "\n",
    "dataframes = {}\n",
    "for file in csv_files:\n",
    "    filename = os.path.splitext(os.path.basename(file))[0]\n",
    "    dataframes[filename] = pd.read_csv(file, skiprows=2)"
   ]
  },
  {
   "cell_type": "code",
   "execution_count": 7,
   "metadata": {},
   "outputs": [],
   "source": [
    "for filename, df in dataframes.items():\n",
    "    khz = df[df['Freq(Hz)'] == 8000]\n",
    "    dbkhz = khz[khz['Level(dB)'] == 90]\n",
    "    index = dbkhz.index.values[0]\n",
    "    final = df.iloc[index,48:]\n",
    "    final = pd.to_numeric(final, errors='coerce')\n",
    "    \n",
    "    plt.figure()  \n",
    "    final.plot()\n",
    "    plt.title(f'sheet: {filename}') \n",
    "    plt.show()\n",
    "    "
   ]
  },
  {
   "cell_type": "markdown",
   "metadata": {},
   "source": [
    "# 2. Identifying Peaks"
   ]
  },
  {
   "cell_type": "code",
   "execution_count": 8,
   "metadata": {},
   "outputs": [],
   "source": [
    "for filename, df in dataframes.items():\n",
    "    khz = df[df['Freq(Hz)'] == 8000]\n",
    "    dbkhz = khz[khz['Level(dB)'] == 90]\n",
    "    index = dbkhz.index.values[0]\n",
    "    final = df.iloc[index,48:]\n",
    "    final = pd.to_numeric(final, errors='coerce')\n",
    "\n",
    "    #find highest peaks separated by atleast n data points\n",
    "    n = 20\n",
    "    peaks, _ = find_peaks(final, distance=n)\n",
    "    highest_peaks = peaks[np.argsort(final[peaks])[-5:]]\n",
    "    \n",
    "    plt.figure()\n",
    "    plt.plot(final)\n",
    "    plt.plot(highest_peaks, final[highest_peaks], \"x\")\n",
    "    plt.title(f'sheet: {filename}')\n",
    "    plt.show()"
   ]
  },
  {
   "cell_type": "code",
   "execution_count": null,
   "metadata": {},
   "outputs": [],
   "source": []
  }
 ],
 "metadata": {
  "kernelspec": {
   "display_name": "base",
   "language": "python",
   "name": "python3"
  },
  "language_info": {
   "codemirror_mode": {
    "name": "ipython",
    "version": 3
   },
   "file_extension": ".py",
   "mimetype": "text/x-python",
   "name": "python",
   "nbconvert_exporter": "python",
   "pygments_lexer": "ipython3",
   "version": "3.11.0"
  }
 },
 "nbformat": 4,
 "nbformat_minor": 2
}
